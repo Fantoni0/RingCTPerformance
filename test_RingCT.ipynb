{
 "cells": [
  {
   "cell_type": "code",
   "execution_count": 1,
   "outputs": [],
   "source": [
    "# Import ringCT module\n",
    "import src.ringCT as rct\n",
    "\n",
    "# Generate keys used in the ring signature\n",
    "pair_keys = [rct.utils.generateKeyPair() for i in range(5)]\n",
    "public_keys = [pair_keys[i][1] for i in range(len(pair_keys))]\n",
    "private_keys = [pair_keys[i][0] for i in range(len(pair_keys))]"
   ],
   "metadata": {
    "collapsed": false,
    "pycharm": {
     "name": "#%%\n"
    }
   }
  },
  {
   "cell_type": "code",
   "execution_count": 2,
   "outputs": [],
   "source": [
    "# Import secrets\n",
    "import secrets\n",
    "\n",
    "# Generate signature\n",
    "# Select the signer\n",
    "signer = secrets.randbelow(len(private_keys))\n",
    "# Generate signature\n",
    "keys, key_image, seed, random_numbers = rct.sign(public_keys, signer, private_keys[signer], 'I voted for Kodos')"
   ],
   "metadata": {
    "collapsed": false,
    "pycharm": {
     "name": "#%%\n"
    }
   }
  },
  {
   "cell_type": "code",
   "execution_count": 3,
   "outputs": [],
   "source": [
    "# Verify signature\n",
    "verification = rct.verify(public_keys, key_image, seed, random_numbers, [], 'I voted for Kodos')"
   ],
   "metadata": {
    "collapsed": false,
    "pycharm": {
     "name": "#%%\n"
    }
   }
  }
 ],
 "metadata": {
  "kernelspec": {
   "display_name": "Python 3",
   "language": "python",
   "name": "python3"
  },
  "language_info": {
   "codemirror_mode": {
    "name": "ipython",
    "version": 2
   },
   "file_extension": ".py",
   "mimetype": "text/x-python",
   "name": "python",
   "nbconvert_exporter": "python",
   "pygments_lexer": "ipython2",
   "version": "2.7.6"
  }
 },
 "nbformat": 4,
 "nbformat_minor": 0
}