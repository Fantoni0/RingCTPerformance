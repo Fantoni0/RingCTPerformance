{
 "cells": [
  {
   "cell_type": "code",
   "execution_count": 6,
   "metadata": {
    "collapsed": true,
    "pycharm": {
     "name": "#%%\n"
    }
   },
   "outputs": [
    {
     "name": "stdout",
     "output_type": "stream",
     "text": [
      "5900408149280167136225309202391948065620244971208769748912\n"
     ]
    },
    {
     "data": {
      "text/plain": "False"
     },
     "execution_count": 6,
     "metadata": {},
     "output_type": "execute_result"
    }
   ],
   "source": [
    "import src.ringCT as rct\n",
    "\n",
    "pair_keys = [rct.utils.generateKeyPair() for i in range(5)]\n",
    "public_keys = [pair_keys[i][1] for i in range(len(pair_keys))]\n",
    "private_keys = [pair_keys[i][0] for i in range(len(pair_keys))]\n",
    "import secrets\n",
    "public_keys2 = [rct.utils.generateKeyPair()[1] for i in range(5)]\n",
    "signer = secrets.randbelow(len(private_keys))\n",
    "signature = rct.sign(public_keys, signer, private_keys[signer], 'I voted for Kodos')\n",
    "print(signature[2])\n",
    "verification = rct.verify(public_keys, signature[1], signature[2], signature[3], [], 'I voted for Kodos')\n",
    "verification\n",
    "\n",
    "\n",
    "\n"
   ]
  }
 ],
 "metadata": {
  "kernelspec": {
   "display_name": "Python 3",
   "language": "python",
   "name": "python3"
  },
  "language_info": {
   "codemirror_mode": {
    "name": "ipython",
    "version": 2
   },
   "file_extension": ".py",
   "mimetype": "text/x-python",
   "name": "python",
   "nbconvert_exporter": "python",
   "pygments_lexer": "ipython2",
   "version": "2.7.6"
  }
 },
 "nbformat": 4,
 "nbformat_minor": 0
}